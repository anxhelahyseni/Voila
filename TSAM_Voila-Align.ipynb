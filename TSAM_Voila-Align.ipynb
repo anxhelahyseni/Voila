{
 "cells": [
  {
   "cell_type": "code",
   "execution_count": 1,
   "metadata": {},
   "outputs": [],
   "source": [
    "##### IMPORTS\n",
    "%load_ext autoreload\n",
    "%autoreload 2\n",
    "import pandas as pd\n",
    "from ipywidgets import *\n",
    "import copy\n",
    "import matplotlib.pyplot as plt\n",
    "import tsam.timeseriesaggregation as tsam\n",
    "from IPython.core.display import display, HTML\n",
    "import base64\n",
    "from io import StringIO\n",
    "%matplotlib inline"
   ]
  },
  {
   "cell_type": "code",
   "execution_count": 2,
   "metadata": {},
   "outputs": [
    {
     "data": {
      "text/html": [
       "\n",
       "        <style>\n",
       "            .header img {float: right;}\n",
       "            .header h1 {position: absolute;}\n",
       "            [data-mime-type='image/png'] {text-align: center;}\n",
       "        </style>\n",
       "        "
      ],
      "text/plain": [
       "<IPython.core.display.HTML object>"
      ]
     },
     "metadata": {},
     "output_type": "display_data"
    }
   ],
   "source": [
    "##### Style\n",
    "display(HTML(\"\"\"\n",
    "        <style>\n",
    "            .header img {float: right;}\n",
    "            .header h1 {position: absolute;}\n",
    "            [data-mime-type='image/png'] {text-align: center;}\n",
    "        </style>\n",
    "        \"\"\"))"
   ]
  },
  {
   "cell_type": "code",
   "execution_count": 3,
   "metadata": {},
   "outputs": [
    {
     "data": {
      "text/html": [
       "<div class=\"header\">                  <h1>TSAM GUI</h1>                  <img style=\"width: 10%;\" src=\"https://upload.wikimedia.org/wikipedia/de/8/8b/J%C3%BClich_fz_logo.svg\" alt=\"Juelich Logo\">                   <img style=\"width: 8%;\" src=\"https://www.wiwi.rwth-aachen.de/global/show_picture.asp?id=aaaaaaaaabczicn&w=842&q=77&meta=0\" alt=\"Metis Logo\">                </div>"
      ],
      "text/plain": [
       "<IPython.core.display.HTML object>"
      ]
     },
     "metadata": {},
     "output_type": "display_data"
    },
    {
     "data": {
      "text/html": [
       "<hr>"
      ],
      "text/plain": [
       "<IPython.core.display.HTML object>"
      ]
     },
     "metadata": {},
     "output_type": "display_data"
    }
   ],
   "source": [
    "##### Header with the logos\n",
    "display(HTML('<div class=\"header\">\\\n",
    "                  <h1>TSAM GUI</h1>\\\n",
    "                  <img style=\"width: 10%;\" src=\"https://upload.wikimedia.org/wikipedia/de/8/8b/J%C3%BClich_fz_logo.svg\" alt=\"Juelich Logo\"> \\\n",
    "                  <img style=\"width: 8%;\" src=\"https://www.wiwi.rwth-aachen.de/global/show_picture.asp?id=aaaaaaaaabczicn&w=842&q=77&meta=0\" alt=\"Metis Logo\">\\\n",
    "                </div>'))\n",
    "display(HTML(\"<hr>\"))"
   ]
  },
  {
   "cell_type": "markdown",
   "metadata": {},
   "source": [
    "### Upload  your data"
   ]
  },
  {
   "cell_type": "code",
   "execution_count": 4,
   "metadata": {},
   "outputs": [
    {
     "data": {
      "text/html": [
       "<style>.right-space-class{margin-right: 50px; margin-left: 15px;}</style>"
      ],
      "text/plain": [
       "<IPython.core.display.HTML object>"
      ]
     },
     "metadata": {},
     "output_type": "display_data"
    }
   ],
   "source": [
    "uploader = widgets.FileUpload(\n",
    "                accept='.csv',  # Accepted file extension e.g. '.txt', '.pdf', 'image/*', 'image/*,.pdf'\n",
    "                multiple=False,  # True to accept multiple files upload else False\n",
    "            )\n",
    "uploader.add_class(\"right-space-class\")\n",
    "display(HTML(\"<style>.right-space-class{margin-right: 50px; margin-left: 15px;}</style>\"))"
   ]
  },
  {
   "cell_type": "code",
   "execution_count": 5,
   "metadata": {},
   "outputs": [
    {
     "data": {
      "application/vnd.jupyter.widget-view+json": {
       "model_id": "4c81aa96bfbd434ea9a8f1eb31e87821",
       "version_major": 2,
       "version_minor": 0
      },
      "text/plain": [
       "HBox(children=(FileUpload(value={}, accept='.csv', description='Upload', _dom_classes=('right-space-class',)),…"
      ]
     },
     "metadata": {},
     "output_type": "display_data"
    }
   ],
   "source": [
    "button_data = Button(description=\"Confirm Data\", button_style=\"success\", icon='check')\n",
    "\n",
    "HBox(children=[uploader, button_data])"
   ]
  },
  {
   "cell_type": "code",
   "execution_count": 6,
   "metadata": {},
   "outputs": [
    {
     "data": {
      "application/vnd.jupyter.widget-view+json": {
       "model_id": "74e1648dfa7c4b089731353d76d59800",
       "version_major": 2,
       "version_minor": 0
      },
      "text/plain": [
       "Output()"
      ]
     },
     "metadata": {},
     "output_type": "display_data"
    }
   ],
   "source": [
    "data_output = Output()\n",
    "display(data_output)"
   ]
  },
  {
   "cell_type": "markdown",
   "metadata": {},
   "source": [
    "### Inputs"
   ]
  },
  {
   "cell_type": "code",
   "execution_count": 7,
   "metadata": {},
   "outputs": [
    {
     "data": {
      "text/html": [
       "<style>.right-space-class{margin-right: 50px;}</style>"
      ],
      "text/plain": [
       "<IPython.core.display.HTML object>"
      ]
     },
     "metadata": {},
     "output_type": "display_data"
    },
    {
     "data": {
      "text/html": [
       "<style>.right-space-class{margin-right: 50px;}</style>"
      ],
      "text/plain": [
       "<IPython.core.display.HTML object>"
      ]
     },
     "metadata": {},
     "output_type": "display_data"
    },
    {
     "data": {
      "text/html": [
       "<style>.right-space-class{margin-right: 50px;}</style>"
      ],
      "text/plain": [
       "<IPython.core.display.HTML object>"
      ]
     },
     "metadata": {},
     "output_type": "display_data"
    },
    {
     "data": {
      "text/html": [
       "<style>.right-space-class{margin-right: 50px;}</style>"
      ],
      "text/plain": [
       "<IPython.core.display.HTML object>"
      ]
     },
     "metadata": {},
     "output_type": "display_data"
    },
    {
     "data": {
      "application/vnd.jupyter.widget-view+json": {
       "model_id": "272d53a54f724f59bdabab400decb59e",
       "version_major": 2,
       "version_minor": 0
      },
      "text/plain": [
       "HBox(children=(BoundedIntText(value=24, description='Number of time steps per period', max=168, min=1, style=D…"
      ]
     },
     "metadata": {},
     "output_type": "display_data"
    }
   ],
   "source": [
    "steps = widgets.BoundedIntText(\n",
    "            value=24,\n",
    "            description='Number of time steps per period',\n",
    "            disabled=False,\n",
    "            style={'description_width': 'initial'},\n",
    "            min=1,\n",
    "            max=168\n",
    "        )\n",
    "steps.add_class(\"right-space-class\")\n",
    "display(HTML(\"<style>.right-space-class{margin-right: 50px;}</style>\"))\n",
    "\n",
    "periods = widgets.BoundedIntText(\n",
    "            value=10,\n",
    "            min=1,\n",
    "            max=100,\n",
    "            step=1,\n",
    "            description='Number of periods to aggregate',\n",
    "            disabled=False,\n",
    "            style={'description_width': 'initial'}\n",
    "        )\n",
    "periods.add_class(\"right-space-class\")\n",
    "display(HTML(\"<style>.right-space-class{margin-right: 50px;}</style>\"))\n",
    "\n",
    "algorithm = widgets.Dropdown(\n",
    "                options=[alg for alg in tsam.TimeSeriesAggregation.CLUSTER_METHODS],\n",
    "                value='hierarchical',\n",
    "                description='Algorithm',\n",
    "                disabled=False,\n",
    "                style={'description_width': 'initial'}\n",
    "            )\n",
    "algorithm.add_class(\"right-space-class\")\n",
    "display(HTML(\"<style>.right-space-class{margin-right: 50px;}</style>\"))\n",
    "\n",
    "attribute = widgets.Dropdown(\n",
    "                options=[('...')],\n",
    "                value='...',\n",
    "                description='Attribute',\n",
    "                disabled=False,\n",
    "                style={'description_width': 'initial'}\n",
    "            )\n",
    "attribute.add_class(\"right-space-class\")\n",
    "display(HTML(\"<style>.right-space-class{margin-right: 50px;}</style>\"))\n",
    "\n",
    "button_agr = Button(description=\"Aggregate\", button_style=\"success\", icon='check')\n",
    "\n",
    "HBox(children=[steps, periods, algorithm, attribute, button_agr])"
   ]
  },
  {
   "cell_type": "code",
   "execution_count": 8,
   "metadata": {},
   "outputs": [
    {
     "data": {
      "application/vnd.jupyter.widget-view+json": {
       "model_id": "c52290f5e2974e8c95c7b9a187b02cb0",
       "version_major": 2,
       "version_minor": 0
      },
      "text/plain": [
       "Output()"
      ]
     },
     "metadata": {},
     "output_type": "display_data"
    }
   ],
   "source": [
    "plot1 = Output()\n",
    "plot1"
   ]
  },
  {
   "cell_type": "code",
   "execution_count": 9,
   "metadata": {},
   "outputs": [],
   "source": [
    "def create_download_link(df, title, filename = \"data_s_\"+str(steps.value)+\"_p_\"+str(periods.value)+\"_a_\"+algorithm.value+\".csv\"):  \n",
    "    csv = df.to_csv()\n",
    "    b64 = base64.b64encode(csv.encode())\n",
    "    payload = b64.decode()\n",
    "    html = '<a class=\"btn btn-success\" download=\"{filename}\" href=\"data:text/csv;base64,{payload}\" target=\"_blank\" style=\"display: flex; justify-content: center; align-items: center;\">{title}</a>'\n",
    "    html = html.format(payload=payload,title=title,filename=filename)\n",
    "    return HTML(html)"
   ]
  },
  {
   "cell_type": "code",
   "execution_count": 10,
   "metadata": {},
   "outputs": [],
   "source": [
    "def plot_duration(raw,predictedPeriods):\n",
    "    fig, axes = plt.subplots(figsize = [6, 2], dpi = 100, nrows = 1, ncols = 1)\n",
    "    raw['Load'].sort_values(ascending=False).reset_index(drop=True).plot(label = 'Original')\n",
    "    predictedPeriods['Load'].sort_values(ascending=False).reset_index(drop=True).plot(label = '8 typ days')\n",
    "\n",
    "    plt.legend()\n",
    "    plt.xlabel('Hours [h]')\n",
    "    plt.ylabel('Duration Load [MW]')\n",
    "    \n",
    "    return fig"
   ]
  },
  {
   "cell_type": "code",
   "execution_count": 11,
   "metadata": {},
   "outputs": [],
   "source": [
    "def plot_aggregation(predictedPeriods, raw_data):\n",
    "    fig, axes = plt.subplots(figsize = [6, 2], dpi = 100, nrows = 1, ncols = 1)\n",
    "    stacked, timeindex = tsam.unstackToPeriods(copy.deepcopy(predictedPeriods[attribute.value]), periods.value)\n",
    "    cax = axes.imshow(stacked.values.T, interpolation = 'nearest', vmin = raw_data[attribute.value].min(), vmax = raw_data[attribute.value].max())\n",
    "    axes.set_aspect('auto')  \n",
    "    axes.set_ylabel('Hour')\n",
    "    plt.xlabel('Day')\n",
    "\n",
    "    fig.subplots_adjust(right = 1.2)\n",
    "    cbar=plt.colorbar(cax)\n",
    "\n",
    "    if attribute.value == 'T':\n",
    "        cbar.set_label('T [°C]')\n",
    "    elif attribute.value == 'GHI':\n",
    "        cbar.set_label('GHI [W/m²]')\n",
    "    elif attribute.value == 'Wind':\n",
    "        cbar.set_label('Wind [m/s]')\n",
    "    else:\n",
    "        cbar.set_label('Load [W]')\n",
    "    \n",
    "    return fig"
   ]
  },
  {
   "cell_type": "code",
   "execution_count": 12,
   "metadata": {},
   "outputs": [],
   "source": [
    "@data_output.capture()\n",
    "def onclick_data(button):\n",
    "    raw_data = pd.read_csv(StringIO(str(uploader.data[0],'utf-8')), index_col = 0)\n",
    "               \n",
    "    row, col = raw_data.shape\n",
    "    \n",
    "    periods.max = int(row/steps.value)\n",
    "    attribute.options = [atr for atr in raw_data.columns]\n",
    "    \n",
    "    print(\"Number of time series: \", col)\n",
    "    print(\"Number of time steps: \", row)\n",
    "    \n",
    "            \n",
    "button_data.on_click(onclick_data)\n",
    "\n",
    "@plot1.capture(clear_output=True)\n",
    "def onclick_agr(button):\n",
    "    raw_data = pd.read_csv(StringIO(str(uploader.data[0],'utf-8')), index_col = 0)\n",
    "    with plot1:\n",
    "        aggregation = tsam.TimeSeriesAggregation(raw_data, noTypicalPeriods = steps.value, hoursPerPeriod = periods.value, clusterMethod = algorithm.value, solver='gurobi')\n",
    "        typPeriods = aggregation.createTypicalPeriods()\n",
    "        predictedPeriods = aggregation.predictOriginalData()        \n",
    "        \n",
    "        display(HTML(\"<h3 style='text-align: center;'>Result plot</h3>\"))\n",
    "        display(plot_aggregation(predictedPeriods, raw_data), plot_duration(raw_data, predictedPeriods))\n",
    "\n",
    "        display(create_download_link(typPeriods, 'Download TypicalPeriods'))\n",
    "        display(create_download_link(predictedPeriods, 'Download PredictedPeriods'))\n",
    "        \n",
    "button_agr.on_click(onclick_agr)"
   ]
  },
  {
   "cell_type": "code",
   "execution_count": 13,
   "metadata": {},
   "outputs": [
    {
     "data": {
      "text/html": [
       "<hr><a target=\"_blank\" href=\"http://www.metis-platform.net/metis-platform/DE/_ServicePages/Imprint/_node.html;jsessionid=FFAF99E7AD5DD644EC762EC0096E1C6E\">IMPRINT</a>|<a target=\"_blank\" href=\"http://www.metis-platform.net/metis-platform/DE/_ServicePages/DataProtection/_node.html;jsessionid=FFAF99E7AD5DD644EC762EC0096E1C6E\">DATA PROTECTION</a>"
      ],
      "text/plain": [
       "<IPython.core.display.HTML object>"
      ]
     },
     "metadata": {},
     "output_type": "display_data"
    }
   ],
   "source": [
    "##### Footer\n",
    "display(HTML('<hr><a target=\"_blank\" href=\"http://www.metis-platform.net/metis-platform/DE/_ServicePages/Imprint/_node.html;jsessionid=FFAF99E7AD5DD644EC762EC0096E1C6E\">IMPRINT</a>|<a target=\"_blank\" href=\"http://www.metis-platform.net/metis-platform/DE/_ServicePages/DataProtection/_node.html;jsessionid=FFAF99E7AD5DD644EC762EC0096E1C6E\">DATA PROTECTION</a>'))"
   ]
  },
  {
   "cell_type": "code",
   "execution_count": 14,
   "metadata": {},
   "outputs": [],
   "source": [
    "# !jupyter nbconvert --to script TSAM_Voila-Align.ipynb"
   ]
  },
  {
   "cell_type": "code",
   "execution_count": null,
   "metadata": {},
   "outputs": [],
   "source": []
  }
 ],
 "metadata": {
  "kernelspec": {
   "display_name": "Python 3",
   "language": "python",
   "name": "python3"
  },
  "language_info": {
   "codemirror_mode": {
    "name": "ipython",
    "version": 3
   },
   "file_extension": ".py",
   "mimetype": "text/x-python",
   "name": "python",
   "nbconvert_exporter": "python",
   "pygments_lexer": "ipython3",
   "version": "3.7.4"
  }
 },
 "nbformat": 4,
 "nbformat_minor": 2
}
